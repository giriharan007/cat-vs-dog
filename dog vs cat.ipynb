{
 "cells": [
  {
   "cell_type": "code",
   "execution_count": 21,
   "metadata": {},
   "outputs": [],
   "source": [
    "import pandas as pd\n",
    "import cv2\n",
    "import os\n",
    "import random\n",
    "import matplotlib.pyplot as plt\n",
    "import pickle\n",
    "import numpy as np"
   ]
  },
  {
   "cell_type": "code",
   "execution_count": 22,
   "metadata": {},
   "outputs": [],
   "source": [
    "directory=\"D:\\Projects\\cat vs dog\\dogscats\"\n",
    "categories=['cats','dogs']"
   ]
  },
  {
   "cell_type": "code",
   "execution_count": 32,
   "metadata": {},
   "outputs": [
    {
     "name": "stdout",
     "output_type": "stream",
     "text": [
      "[[[ 12  57  60]\n",
      "  [ 14  57  60]\n",
      "  [ 18  55  63]\n",
      "  ...\n",
      "  [ 13  14  12]\n",
      "  [ 12  10   9]\n",
      "  [ 47  45  44]]\n",
      "\n",
      " [[  8  53  56]\n",
      "  [ 10  53  56]\n",
      "  [ 14  51  59]\n",
      "  ...\n",
      "  [ 35  37  37]\n",
      "  [ 17  19  19]\n",
      "  [ 15  17  17]]\n",
      "\n",
      " [[  4  49  52]\n",
      "  [  6  49  52]\n",
      "  [ 11  47  55]\n",
      "  ...\n",
      "  [ 19  25  30]\n",
      "  [ 13  19  24]\n",
      "  [ 15  21  26]]\n",
      "\n",
      " ...\n",
      "\n",
      " [[102 164  44]\n",
      "  [103 165  45]\n",
      "  [104 166  46]\n",
      "  ...\n",
      "  [103 158  31]\n",
      "  [101 156  29]\n",
      "  [103 158  31]]\n",
      "\n",
      " [[102 164  44]\n",
      "  [103 165  45]\n",
      "  [103 165  45]\n",
      "  ...\n",
      "  [101 158  29]\n",
      "  [ 99 157  25]\n",
      "  [100 158  26]]\n",
      "\n",
      " [[102 164  44]\n",
      "  [103 165  45]\n",
      "  [103 165  45]\n",
      "  ...\n",
      "  [100 157  28]\n",
      "  [ 97 155  23]\n",
      "  [ 98 156  24]]]\n",
      "[[[ 11  10  12]\n",
      "  [ 25  24  26]\n",
      "  [ 21  16  17]\n",
      "  ...\n",
      "  [ 33  37  32]\n",
      "  [ 71  75  70]\n",
      "  [ 37  40  38]]\n",
      "\n",
      " [[ 13  12  14]\n",
      "  [ 20  19  21]\n",
      "  [ 27  22  23]\n",
      "  ...\n",
      "  [ 27  30  28]\n",
      "  [ 65  68  66]\n",
      "  [ 30  32  32]]\n",
      "\n",
      " [[ 11  10  12]\n",
      "  [  6   5   7]\n",
      "  [ 27  22  23]\n",
      "  ...\n",
      "  [ 21  23  23]\n",
      "  [ 57  59  59]\n",
      "  [ 19  21  22]]\n",
      "\n",
      " ...\n",
      "\n",
      " [[  6   9   7]\n",
      "  [  6   9   7]\n",
      "  [  7  10   8]\n",
      "  ...\n",
      "  [118 121 126]\n",
      "  [119 122 127]\n",
      "  [120 123 128]]\n",
      "\n",
      " [[  1   4   2]\n",
      "  [  1   4   2]\n",
      "  [  2   5   3]\n",
      "  ...\n",
      "  [119 122 127]\n",
      "  [119 122 127]\n",
      "  [120 123 128]]\n",
      "\n",
      " [[  0   1   0]\n",
      "  [  0   2   0]\n",
      "  [  0   2   0]\n",
      "  ...\n",
      "  [119 122 127]\n",
      "  [120 123 128]\n",
      "  [120 123 128]]]\n"
     ]
    }
   ],
   "source": [
    "data=[]\n",
    "for category in categories:\n",
    "    folder=os.path.join(directory,category)\n",
    "    label=categories.index(category)\n",
    "    for img in os.listdir(folder):\n",
    "        img_path=os.path.join(folder,img)\n",
    "        img_arr=cv2.imread(img_path)\n",
    "        img_arr=cv2.resize(img_arr,(144,144))\n",
    "        data.append([img_arr,label])"
   ]
  },
  {
   "cell_type": "code",
   "execution_count": 24,
   "metadata": {},
   "outputs": [
    {
     "data": {
      "text/plain": [
       "2000"
      ]
     },
     "execution_count": 24,
     "metadata": {},
     "output_type": "execute_result"
    }
   ],
   "source": [
    "len(data)"
   ]
  },
  {
   "cell_type": "code",
   "execution_count": 25,
   "metadata": {},
   "outputs": [],
   "source": [
    "random.shuffle(data)"
   ]
  },
  {
   "cell_type": "code",
   "execution_count": 26,
   "metadata": {},
   "outputs": [],
   "source": [
    "x=[]\n",
    "y=[]\n",
    "for features,lables in data:\n",
    "    x.append(features)\n",
    "    y.append(lables)"
   ]
  },
  {
   "cell_type": "code",
   "execution_count": 27,
   "metadata": {},
   "outputs": [],
   "source": [
    "x=np.array(x)\n",
    "y=np.array(y)"
   ]
  },
  {
   "cell_type": "code",
   "execution_count": 35,
   "metadata": {},
   "outputs": [],
   "source": [
    "x=x/255"
   ]
  },
  {
   "cell_type": "code",
   "execution_count": 37,
   "metadata": {},
   "outputs": [
    {
     "data": {
      "text/plain": [
       "(2000, 144, 144, 3)"
      ]
     },
     "execution_count": 37,
     "metadata": {},
     "output_type": "execute_result"
    }
   ],
   "source": [
    "x.shape"
   ]
  },
  {
   "cell_type": "code",
   "execution_count": 38,
   "metadata": {},
   "outputs": [],
   "source": [
    "import tensorflow"
   ]
  },
  {
   "cell_type": "code",
   "execution_count": 39,
   "metadata": {},
   "outputs": [],
   "source": [
    "from keras.models import Sequential\n",
    "from keras.layers import Conv2D,MaxPool2D,Flatten,Dense"
   ]
  },
  {
   "cell_type": "code",
   "execution_count": 44,
   "metadata": {},
   "outputs": [],
   "source": [
    "model=Sequential()\n",
    "model.add(Conv2D(64,(3,3),activation='relu'))\n",
    "model.add(MaxPool2D(2,2))\n",
    "\n",
    "model.add(Conv2D(64,(3,3),activation='relu'))\n",
    "model.add(MaxPool2D(2,2))\n",
    "\n",
    "model.add(Conv2D(64,(3,3),activation='relu'))\n",
    "model.add(MaxPool2D(2,2))\n",
    "\n",
    "model.add(Flatten())\n",
    "\n",
    "model.add(Dense(128,input_shape=x.shape[1:]))\n",
    "\n",
    "model.add(Dense(2,activation='softmax'))"
   ]
  },
  {
   "cell_type": "code",
   "execution_count": 45,
   "metadata": {},
   "outputs": [],
   "source": [
    "model.compile(optimizer='adam',loss='sparse_categorical_crossentropy',metrics=['accuracy'])"
   ]
  },
  {
   "cell_type": "code",
   "execution_count": 46,
   "metadata": {},
   "outputs": [
    {
     "name": "stdout",
     "output_type": "stream",
     "text": [
      "Epoch 1/10\n",
      "57/57 [==============================] - 19s 327ms/step - loss: 0.7665 - accuracy: 0.5450 - val_loss: 0.6666 - val_accuracy: 0.6400\n",
      "Epoch 2/10\n",
      "57/57 [==============================] - 19s 329ms/step - loss: 0.6682 - accuracy: 0.5911 - val_loss: 0.6684 - val_accuracy: 0.6200\n",
      "Epoch 3/10\n",
      "57/57 [==============================] - 19s 333ms/step - loss: 0.6187 - accuracy: 0.6628 - val_loss: 0.6488 - val_accuracy: 0.6400\n",
      "Epoch 4/10\n",
      "57/57 [==============================] - 19s 335ms/step - loss: 0.5633 - accuracy: 0.7089 - val_loss: 0.6474 - val_accuracy: 0.6400\n",
      "Epoch 5/10\n",
      "57/57 [==============================] - 19s 336ms/step - loss: 0.5034 - accuracy: 0.7539 - val_loss: 0.6512 - val_accuracy: 0.6300\n",
      "Epoch 6/10\n",
      "57/57 [==============================] - 19s 338ms/step - loss: 0.4565 - accuracy: 0.7844 - val_loss: 0.7163 - val_accuracy: 0.6600\n",
      "Epoch 7/10\n",
      "57/57 [==============================] - 19s 335ms/step - loss: 0.3841 - accuracy: 0.8239 - val_loss: 0.7940 - val_accuracy: 0.6000\n",
      "Epoch 8/10\n",
      "57/57 [==============================] - 20s 346ms/step - loss: 0.3176 - accuracy: 0.8567 - val_loss: 0.8747 - val_accuracy: 0.6450\n",
      "Epoch 9/10\n",
      "57/57 [==============================] - 20s 348ms/step - loss: 0.2674 - accuracy: 0.8950 - val_loss: 0.8418 - val_accuracy: 0.6650\n",
      "Epoch 10/10\n",
      "57/57 [==============================] - 20s 349ms/step - loss: 0.2240 - accuracy: 0.9111 - val_loss: 0.9403 - val_accuracy: 0.6900\n"
     ]
    },
    {
     "data": {
      "text/plain": [
       "<keras.src.callbacks.History at 0x240593be4d0>"
      ]
     },
     "execution_count": 46,
     "metadata": {},
     "output_type": "execute_result"
    }
   ],
   "source": [
    "model.fit(x,y,epochs=10,validation_split=0.1)"
   ]
  },
  {
   "cell_type": "code",
   "execution_count": null,
   "metadata": {},
   "outputs": [],
   "source": []
  }
 ],
 "metadata": {
  "kernelspec": {
   "display_name": "Python 3",
   "language": "python",
   "name": "python3"
  },
  "language_info": {
   "codemirror_mode": {
    "name": "ipython",
    "version": 3
   },
   "file_extension": ".py",
   "mimetype": "text/x-python",
   "name": "python",
   "nbconvert_exporter": "python",
   "pygments_lexer": "ipython3",
   "version": "3.11.3"
  }
 },
 "nbformat": 4,
 "nbformat_minor": 2
}
